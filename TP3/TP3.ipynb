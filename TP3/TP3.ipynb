{
 "cells": [
  {
   "cell_type": "markdown",
   "metadata": {
    "id": "0jDd-BIK9SFy"
   },
   "source": [
    "## 1 Tracking simple objects in videos\n",
    "\n",
    "### 1.1 Particle Filters\n",
    "\n",
    "In this exercise, you will implement a simple object tracker based on the Particle Filter. Some test video sequences can be downloaded from the link below :\n",
    "https://drive.google.com/file/d/1k4RoERodDDEmLUzy_EhYPUaMlfzkRKVP/view?usp=drive_link\n",
    "\n",
    "A motivating example is given in sequence seq23.avi that shows the tracking result of a (standard) Particle Filter on a real sequence.\n",
    "The tracked area (object) is initialized by the user and its shape is assumed to be fixed. We will consider here a rectangle, parameterized by the position of its center.The hidden state is thus represented by a 2-dimensional vector.\n",
    "\n",
    "Transition function.\n",
    "We are interested in the scenario where no apriori information on the movement of the tracked object is available.The transition model is therefore given by:\n",
    "\n",
    "Xk = Xk-1 + Vk\n",
    "\n",
    "where Vk N(0, Sigma) is a Gaussian white noise, Sigma is a diagonal matrix.\n",
    "\n",
    "**Likelihood function.** <br>\n",
    "We calculate a normalized color histogram (Nb bins) associated with the tracked area and those associated with the particles in order to approximate the likelihood function. More precisely, at a time instant k, each particle xik i=1, ..., N will define an area on the image. A histogram is then calculated from this area.The likelihood function is constructed by comparing the obtained histogram with the reference histogram (the one associated with the tracked area). Here we assume that the histogram associated with the tracked area is time invariant.The distance between two color histograms h and h' is defined as:"
   ]
  },
  {
   "cell_type": "markdown",
   "metadata": {
    "id": "lGNYGljsASAJ"
   },
   "source": [
    "![image.png](data:image/png;base64,iVBORw0KGgoAAAANSUhEUgAAAUcAAABGCAYAAABfYlZ6AAAAAXNSR0IArs4c6QAAAARnQU1BAACxjwv8YQUAAAAJcEhZcwAADsMAAA7DAcdvqGQAABL1SURBVHhe7Z0JuFXTF8C38K8UEWWsjzJThkQkKoQQKRoQ8tGgTEUTUobkJT5TfYa+VKYoPKQypRehUEqKaJCxJ5IhovPfv/32ee/c+86595z77ruD1u/77vfO3ve9c++7d52111p7rXW2cjRKEARBiKGK/SkIgiB4EOUoCILggyhHQRAEH0Q5CoIg+CDKURAEwQdRjoIgCD6IchTyktmzZ6uuXbuqvn372pkSCgsL1dlnn62uv/56tX79ejsrCNER5SjkJSeccILab7/91JNPPqnmzZtnZ5Vq166dOuigg1RBQYGqVauWnRWE6IhyFPKSjRs3qjp16qjevXuru+66y86WzO+99952JAipIxUyQl4ya9Ystf3226t69eqpBg0aqAULFqh9991XvfXWW6p27drqsMMOs78pCKkhlqOQl3z88cfqiCOOUHXr1lXdunVTd999t5lfuHChatSokTkW8oPff/9dzZkzx45yB1GOQl6yefNmVaVKifj2799fTZw4Uf34448KR8idF3KfuXPnqrFjx6qRI0famdxBpEjIO4grVq9e3Y6UcavPOOMME3vcbrvt7KyQDxx77LGqY8eOdpRbiHIU8g7SeJo1a2ZHJQwYMEDdc8895mIThHQgylHIKyZNmqT69eunHn/8cfX333/bWaWOPPJIdfHFF0u8UUgbslstCEJWWbVqlerTp4966aWX7ExuIJajIAhZ46OPPjJewJdffqnGjx+v/vjjD/tM9hHLUYhh9erV6sUXXyxXlicIyfjqq6/UjBkzVK9evexMfiPKUShlzZo16pxzzlGTJ082O8CCEJWhQ4eqHXfcUV177bV2JhgsxZUrV9pRGZdccklOVDmJchQMmzZtUq1atTLCfcopp9hZQYhO+/bt1eDBg1XTpk3tTH4iylEwDBo0SP37778xdcrZ4v333y9N1dl6661Ng4lkkBTO7jXVFj///LP6559/7DNlfPjhh2ZXuzK4+eabzee37bbb2pktj1tuucX8/P77742CpJSzWrVqZi4IvqdXX33VxBrbtGmjdtppJ/tM9hHlKJhY0dFHH62WLl2qdtllFzubXbi4XnjhBXM8ZcoUde6555rjMKAov/76azV//nz1+uuvm+oZlCapPrhy6WbDhg0mCX348OF2ZsukZcuW9kipESNGqOLi4tKyziDwVK688krjXl922WVGUe6111722SyDchQyw8aNGx19kdpR7tClSxdn4MCBdpQbrFu3zqlXrx4Lt6OtCWfVqlX2mehwLu3mOdWrV3d++OEHO5s+Ro4c6WhFbkcC/PTTT06tWrWc7777zs6UR1uNjl5U7MhxunXr5kyaNMmOss8WpRy1ReH8+eefdpR5tPXjnHfeeeb4r7/+MsKRbVAWNWvWdNauXWtncoeioiJHu9VGQTZv3tzZtGmTfSY1uPBuvfVWO0oPyNNJJ51kZKsiJFs0MyUv2r21R8GEXeB79erl3H777XaUGF63UaNGzurVq+1M9slqnuNDDz1kTGrKviobNhzoDq2FzM6U8Msvv6gvvvjC1OtWhGTnYR6X4eSTTzZj4mOUvFX0dSsKbuZRRx2VM+60l+OPP964XfDOO++UxrRS5YILLjDfP7HBdPHoo4+q7t27q6222srOlHy333zzjXHtw3D//ferzz77zI78CSMvhA5WrFihtNVmZ/whJusH71krMzsKBleZvMRknH/++eqRRx4xYY5EcG2ygTNu3DjTgi5nsEoyKzz44IPOwQcfXGpNufTu3ds80sl1113nzJ8/345KWLJkiaMvGGOZLF682M5GJ8x5XnnlFad27doxq65Wpmn/P6NyzDHHOMOHD7ejYBYtWuSMGTPGjjKHVmROy5YtzWdbpUoV54033rDPZB+tsJzWrVuXs+j0Yu80aNDA6dixo50JZvLkyc4DDzxgR7HMmDHDefbZZ+0osbwgV/369TOhg6DzwYIFCxytyJ1PP/3UzpSgla65DvUib2fK+Pzzz52CggI7Kvld5H3Dhg12xh+s3Ro1aiT8znjfnBs3HCv8tddes89kn6xajnRx1l+IHVUMkk+DePfdd83PJk2amJ8utNO//PLL1c4776y0kraz0QlzHq0cVY8ePWK6xtCcdddddzXPZQOsECoU9AVuZ8rDLuyQIUNUp06d1Ntvv21nMwftx6in5rPFArnwwgvV2rVr7bPZhY2eLl26mB11L9dcc42qX7++uZVDIrjHzWOPPWa8Jz+wusg9dUkkL8gVVp++phO+LptcbHjsv//+dqYErEE+W79bS/B6ZBC4VK1aVV1xxRVq2LBhdsaf//3vf+rEE080Vr8fvFc8Ka3MlV6k1T777GNyJHMGoyKziHabylmOqTB69Gh7VJ7TTjvN0W6AHcWiXTWnffv2dpQ6yc6jBdvRbpYdlVFcXOxoAbKjzDJ79mxHX1TGAkqGvnCczp0721HmKSwsNNYjj7Zt21Y4xldRsGhbtWplrKN4sKyqVavmLFy40M74c8cddzjjx4+3o3AkkpdZs2YZ7yTRZ9O0aVOzgeQFi+3www83/1MUiAP7WZpe2Ag766yz7Ci/+E/UVmP9aPfDjmIhFkgsJqjig1wsVreKkug82oUxCbF+KQpYROTGEe/JNFjUWBD5kJunLzB11VVXmeNp06ape++91xxnC+SNuxxiHcVDA1csuWQdgijTjNrLMJG8IINYjd74pxeaARPbxMvxot1epQ2IyE2C+Ru+i0Rg7XpvgJZPZFQ5EgxHqHAl+Im7FO8icW8QArkIngvKhU0bfp+/czdygN+nhdXy5ctNwJ4Hv++CSxDvTrvgVr733ntGiDn3fffdZ1xI3mcUkp1nhx12SJgDx8YDF0qmIbcM9y9fIEFdWzjmeODAgSapO1uwEROvZFyQyRYtWhhlxd0RKaWLvw0A7jLyUaNGDTtTRlFRkTm/m+cZT5C88Lo8xzXC5gaLiXdTCEV20UUXlUu05nXi+2MCG4xPPPFE4IYp/+Pzzz9vR/6QwE9SeLJNopzEWpCVDq4GuXS4Zy56JTPB9ni32t2ocSEIrYXFjhxn/fr1xh13Iajt/X0vWok6WhnbUSxvvvmmCfITwHZdCq2YzetHoaLneeaZZ2I+Fz9w0UaNGhXqwYYAn3cyeI89evSwo8Rk2612WbZsmQnyI7qEKn799Vf7TPrwc5W94OLjEgehrTdHKyln6dKlZsyGXd26dc2xi1ZgjlZUdlQGG3ovv/yyCcHUqVPHzsbiJy+4xlWrVnW6d+9urg/QRkTMtcWxthztqIxDDjmkXNgJ+dHWuTlu2LBhuQ0cIA1Me0N25A+bOXxXbCblGxmzHLGoWIHYhHHh1pp+rijzXvQFYDZc3OA0ltipp55qjpOhv0BzNzo/WGkpJ6OLiOtSEPTHDY9CRc/D++N9JmK33XYzKTdhHljKfu5ePOvWrfO1XHIZwgAE8AFvwStP6YCegnyXlLUFoRe9wNfFi2Dz4oYbblAHHHCAmUMWKI/jp0uQXGLdUW1DZc+ee+5pZ2Pxkxdc+W222Ubddttt5vqAeBns2bOnOvDAA+2oDL/3gjVJlRKpQfRbZCMoHixQXPVEuPIVlD6Uy2RMOfLlEXNLpbaVsiIUI39LnAMlq1c7+2xiMOe5hacfuD3cuc4bayEORyldFCp6HnYIk7kd3GWPhSTMA3cnKO7kBeXovRdLOqDlWYcOHcyFleyRaiyKri3kLAKLZtTFLIjnnntOaQvMxOWmTp1qZ2PRXoJZgPx2dYHvHXk788wz7UxJjiZ/45WPILm8+uqrzc8JEyaU/o/x+MkLMojBsPvuu9uZktf1ymBQVgJyEP9e+H4IubAjz3mJdcZD7BOFTPlkEK5yJPafb2RMOWL9kQLAIyooxenTp5svittxEo8JSn8AXsuFVRSBj4c5Vng60bigwEmviKIc03EezuGu9okgRhXmQVJtGML+XhS4oKiFJhaV7FGRri0kRNPUAAsnXdYvmyPEu9u1a2fixn6wEUSqThB4ESxQ3sWJzyNeMQXJJRY/sWBilNp1trOx+MkLr+uVQSxY4u2J0rRcUIzx74X3oT1L04j20ksvtbOx8DwylOjzd9Oc/k1j4n2myJhyRMFh/YXJrI+HDRg2bljBKGhndzrRebw5j1hcfiY9KzwC5rVAn3rqKbMRhDWFWxOGdJwHRerntnjhPFwsYR4E3f0uvHhq1qyZU52Xw8Ln1bVrV7PpcNxxx9nZ9MFGBlYXcuaFTTd2XxNVE2HBeRswILdYm507dzYbE4sXLzbzQXIJbOLQNo5QCn8bT7y88F2zQHtfF/ccuWSDhvzURAth0HthkWeeTIEPPvignIX+22+/GXfcaxHH48qhn+WZ62RMOXLR8uVh/blg4fHFYe0kAiH1/h1402KIUbq73vz0no8dZL/SLFba+LQHBJtmr7gAS5YsMXO8RwQ1KMk87HkSQTecZGkfJMuyCxnm8fTTT4dyl7EYwrqkrlWabYgFUjiAhUcCdmWABXbooYeasj4vo0aNMpkRQaAIUCJYji7cKZE4Kbu2xN1JdIYguYSZM2ca5c/C5bcjHy8vrivvXaCRQSxg5JLjROlaQe+F90GIBCsSZRtvIYaRW1c5+sVXw4LixzAi/plJMqYcUWa4wygbN5WnsLBQNWzY0KxQ9BMEdx6XCYsR3A0aN5WHvycO6cLtOBnfeeed5nnv7Tmx4PwEjHZWbdu2taMSUILEXyZMmGCqWQD3ZNmyZUbh+BH2PInggvKmLmUKLCDeZyJGjx5tUlG4yLkIOc5mz0fCKVhNN910k52pHLAe8QDcRXfhwoXm8wraJIFPPvnEvDcUqwuhA+qFSb1p3LhxqYJBqRCr83M3Ua7EFLle/G45EC8vyODpp58es0BjiBAP5Bx4EolgIfe7RriOcItxrVmQ4gkjt+7GUUX6NGJk8NnSmyCjmD3rHEevfCa1QQuYSduZPn16uVQVnifdh9+Nh0x+Kgu8aOGzR7Fo18cexRJUrxr1PPFoy81p0qSJHWUWOqZQGZEvUIPbokWLpKk26YAuMdraKe0qoy25wCorF2qs9YVsR2VwLm0U2FEZ1EKTtuNHkPz4yQvn9qtyQubDdPLRC6TTrFkzO4qF54IqqNq0aZO0ldyUKVNM6lXU6pt4Nm/ebFKTMkleKMeKoi24mML5qGzatMnRLpYdpZexY8dm/Et3YbFBcPOBqVOnOto9LbfIRSXKRTpgwABHW4omx49eg+mG3D/a2EWhsuSF/Mh58+bZUXLIl+zUqZMdBUM+aOvWre0odbTlmPGmI1uEcmTVIeF5zZo1diYaCGNYSzAKWJ0dOnTIWl/HlStXmgTdFStW2JnchIsWJeUmVVcEFF7YzxuriH6SJJtXpGtTIugvqd1FO0pMZcoLBRlhz831RAJ7mAbEWJc33nijHaXOsGHD7FHm2CKUI2BxUA2CFRiVZO5UqvTt29e3GUUmady4cUz1Ua5B89P69ev7hkuiMnHiRGfQoEF2FA4URvs0NCYJAkVDFVeYhbuy5WXu3LnOiBEj7CgYKr9mzpxpR8HgjuOZTJs2zc6kBq3RUN6ZZotRjsDK+0MltMlPBWJTlWGNRoVejmHco2xALA3lPW7cODuTGsuXL3d69uxpSjyjWp/8baoeR1iw1iizS0Sm5IXPB4WdiLCf4Zw5c4xy9Iu35gNyg60tHFI4mjdvbrq8pLtapiKwi0t+HUn/YbpTeyE3T1tYpgEJyeZUu3A+ciKDegsK6Ue702a3mr6U+YgoR8EoIep5qb3NFUjZIZWLROZEScYuiLF240zqVZBIP/zww4GddIT0QpoSN+YnP5jSyXxElKNgLCzy2PjpzZXLFlh+WB3avbMz6WHkyJHlyu6EyoGcY/Igg2rU8wFRjoKBm0TRsCKojlYQwkLVFR2JqB6j3DJfEeUoGIqLi02JImVie+yxh50VhOhQKkwc26+6J5/IWPmgkNtQGkdZJhZkmKYVguAHXYuoxc53xQiiHIVSaJJLzTKdjwQhKnTK4kE9938BcauFnIdenrhpfs1hk0GjExoWcGtZQYiCWI5CzkMfxUTdpv1gzS8oKDA3Nsv2nQqF/EQsR+E/DUnf/fv3N23xBCEKYjkKOQtVLiRu00tSEDKNWI5CzsJ9XGjiSuUON56HwYMHB95eALhHEQ163aoasRyFVBHlKOQklAJ+++23pgM7t2cYOnSofSYaohyFVBHlKOQsiCaVFuxWN2jQwMzhaqM4g6CtPzW9LqIchVQR5SjkLEVFRabGmhvtc5tRbqg1ZsyYhHdM5L4pffv2LXWrucUpypEdb0GIgihHIWdZtGiRSUjnZlR9+vSJnOdIxQ93t8TyHDJkiLlNKYnughAGUY5CToOVSJ/JXOgWJGxZiHIUBEHwQfIcBUEQfBDlKAiC4IMoR0EQBB9EOQqCIPggylEQBMEHUY6CIAg+iHIUBEHwQZSjIAiCD6IcBUEQyqHU/wFBJh+ffAyhvQAAAABJRU5ErkJggg==)"
   ]
  },
  {
   "cell_type": "markdown",
   "metadata": {
    "id": "cqGwbxj0AUqF"
   },
   "source": [
    "où h(i) et h′(i) sont les i-èmes bins des histogrammes h et h′ , respectivement. La fonction de vraisemblance est alors approximée par :"
   ]
  },
  {
   "cell_type": "markdown",
   "metadata": {
    "id": "C9-YOtT7AqCb"
   },
   "source": [
    "![image.png](data:image/png;base64,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)"
   ]
  },
  {
   "cell_type": "markdown",
   "metadata": {
    "id": "CCecQMeDAxbo"
   },
   "source": [
    "where h ref is the reference histogram, h(x i k) is the histogram associated with particle x i k, and C is a constant. Details of the tracking algorithm are given below:\""
   ]
  },
  {
   "cell_type": "markdown",
   "metadata": {
    "id": "YS6MnI-qBCFi"
   },
   "source": [
    "Step 1 : Initialize the tracked area by determining the position of center of rectangle and its size."
   ]
  },
  {
   "cell_type": "code",
   "execution_count": null,
   "metadata": {},
   "outputs": [],
   "source": [
    "import matplotlib.pyplot as plt\n",
    "import numpy as np\n",
    "import cv2"
   ]
  },
  {
   "cell_type": "markdown",
   "metadata": {},
   "source": [
    "## Step 1\n",
    "Initialize the tracked area by determining the position of center of rectangle\n",
    "and its size"
   ]
  },
  {
   "cell_type": "code",
   "execution_count": null,
   "metadata": {},
   "outputs": [],
   "source": [
    "cap = cv2.VideoCapture('escrime-4-3.avi')\n",
    "ret, image = cap.read()\n",
    "\n",
    "num_of_particles = 200\n",
    "state_init = np.array([320, 240, 0, 0])  # initial state [x_center, y_center, x_velocity, y_velocity]\n",
    "\n",
    "# bounding box's height and width.\n",
    "half_height = 18\n",
    "half_width = 18"
   ]
  },
  {
   "cell_type": "markdown",
   "metadata": {},
   "source": [
    "## Step 2\n",
    "Calculate the reference histogram href associated with the initial tracked area."
   ]
  },
  {
   "cell_type": "code",
   "execution_count": null,
   "metadata": {},
   "outputs": [],
   "source": [
    "def compute_norm_hist(image, state, half_height, half_width):\n",
    "    \"\"\"\n",
    "    Compute histogram based on the RGB values of the image in the ROI defined by the state.\n",
    "    Args:\n",
    "        image (np.ndarray): matrix representing image with the object to track in it\n",
    "        state (np.ndarray): vector of the state of the tracked object\n",
    "\n",
    "    Returns:\n",
    "        vector of the normalized histogram of the colors in the (ROI = region of interest) of the image based on the state\n",
    "    \"\"\"\n",
    "    bins = 4096\n",
    "    # get the top-left and bottom-right corner of the object bounding boxL\n",
    "    x_min = max(np.round(state[0] - half_width).astype(int), 0)\n",
    "    x_max = min(np.round(state[0] + half_width).astype(int), image.shape[1])\n",
    "    y_min = max(np.round(state[1] - half_height).astype(int), 0)\n",
    "    y_max = min(np.round(state[1] + half_height).astype(int), image.shape[0])\n",
    "\n",
    "    roi = image[y_min:y_max+1, x_min:x_max+1]\n",
    "    roi_reduced = roi // 32  # to reduce complexity\n",
    "    # build vector to represent the combinations of RGB as a single value\n",
    "    roi_indexing = (roi_reduced[..., 0] + roi_reduced[..., 1] * 16 + roi_reduced[..., 2] * 16 ** 2).flatten()\n",
    "    hist, _ = np.histogram(roi_indexing, bins, range=(0, bins))\n",
    "    \n",
    "    # Ensure normalization of the histogram\n",
    "    href = hist / np.sum(hist) if np.sum(hist) > 0 else np.ones(bins) / bins  # uniform distribution if all zeros\n",
    "    return href\n"
   ]
  },
  {
   "cell_type": "code",
   "execution_count": null,
   "metadata": {},
   "outputs": [],
   "source": [
    "q = compute_norm_hist(image, state_init, half_height, half_width)"
   ]
  },
  {
   "cell_type": "code",
   "execution_count": null,
   "metadata": {
    "tags": [
     "parameters"
    ]
   },
   "outputs": [],
   "source": [
    "# Parameters\n",
    "half_width = 50\n",
    "half_height = 50\n",
    "frame_interval = 10  # Interval to skip frames\n",
    "num_frames = 20      # Number of frames to analyze\n",
    "frame_count = 0\n",
    "histograms = []\n",
    "\n",
    "# Loop to read frames and compute histograms\n",
    "while len(histograms) < num_frames:\n",
    "    ret, frame = cap.read()\n",
    "    \n",
    "    if not ret:\n",
    "        print(\"End of video or read error.\")\n",
    "        break\n",
    "\n",
    "    if frame_count % frame_interval == 0:\n",
    "        hist_norm = compute_norm_hist(frame, state_init, half_height, half_width)\n",
    "        histograms.append(hist_norm)\n",
    "    \n",
    "    frame_count += 1\n",
    "\n",
    "# Release resources\n",
    "cap.release()\n",
    "\n",
    "# Plot histograms\n",
    "plt.figure(figsize=(10, 6))\n",
    "\n",
    "for i, hist in enumerate(histograms):\n",
    "    plt.plot(np.arange(4096), hist, label=f\"Frame {i * frame_interval}\")\n",
    "\n",
    "plt.title(f\"Normalized Histograms for {num_frames} Frames taken 1 out of {frame_interval}\")\n",
    "plt.xlabel(\"Color Combination (RGB Index)\")\n",
    "plt.ylabel(\"Probability\")\n",
    "plt.legend()\n",
    "plt.show()\n"
   ]
  },
  {
   "cell_type": "code",
   "execution_count": null,
   "metadata": {},
   "outputs": [],
   "source": [
    "# Parameters\n",
    "half_width = 50\n",
    "half_height = 50\n",
    "frame_interval = 10  # Interval to skip frames\n",
    "num_frames = 20      # Number of frames to analyze\n",
    "frame_count = 0\n",
    "histograms = []\n",
    "\n",
    "# Loop to read frames and compute histograms\n",
    "while len(histograms) < num_frames:\n",
    "    ret, frame = cap.read()\n",
    "    \n",
    "    if not ret:\n",
    "        print(\"End of video or read error.\")\n",
    "        break\n",
    "\n",
    "    if frame_count % frame_interval == 0:\n",
    "        hist_norm = compute_norm_hist(frame, state_init, half_height, half_width)\n",
    "        histograms.append(hist_norm)\n",
    "    \n",
    "    frame_count += 1\n",
    "\n",
    "# Release resources\n",
    "cap.release()\n",
    "\n",
    "# Plot histograms\n",
    "plt.figure(figsize=(10, 6))\n",
    "\n",
    "for i, hist in enumerate(histograms):\n",
    "    plt.plot(np.arange(4096), hist, label=f\"Frame {i * frame_interval}\")\n",
    "plt.xlim(0, 100)\n",
    "\n",
    "plt.title(f\"Normalized Histograms for {num_frames} Frames taken 1 out of {frame_interval}\")\n",
    "plt.xlabel(\"Color Combination (RGB Index)\")\n",
    "plt.ylabel(\"Probability\")\n",
    "plt.legend()\n",
    "plt.show()\n"
   ]
  },
  {
   "cell_type": "markdown",
   "metadata": {},
   "source": [
    "## Step 3 \n",
    "Initialize a set of N particles by generating random positions around the center\n",
    "of tracked area. Initial particle weights are set to w_0_i"
   ]
  },
  {
   "cell_type": "code",
   "execution_count": null,
   "metadata": {},
   "outputs": [],
   "source": [
    "def sample_particle(particles_states, weights):\n",
    "    \"\"\"\n",
    "    Systematic resampling algorithm for particle filter.\n",
    "    \n",
    "    Args:\n",
    "        particles_states (np.ndarray): matrix which its columns are the states\n",
    "        weights (np.ndarray): weights of each state\n",
    "\n",
    "    Returns:\n",
    "        (np.ndarray): matrix of resampled states according to their weights\n",
    "    \"\"\"\n",
    "    N = weights.size\n",
    "\n",
    "    # First, normalize weights \n",
    "    normalized_weights = weights / np.sum(weights)\n",
    "    # Calculate the commulative sum to get the interval\n",
    "    cumulative_sum = np.cumsum(normalized_weights)\n",
    "    \n",
    "    # Generate a single random starting point in [0, 1/N]\n",
    "    start = np.random.uniform(0, 1/N)\n",
    "    # Define the regularly spaced points\n",
    "    positions = (start + np.arange(N) / N) % 1 # to be within [0,1]\n",
    "    \n",
    "    # Find the indices of the particles to be resampled\n",
    "    indices = np.searchsorted(cumulative_sum, positions)\n",
    "    \n",
    "    # Resample particles which indices are selected from the interval condition\n",
    "    resampled_particles = particles_states[:, indices]\n",
    "    return resampled_particles\n",
    "\n",
    "weights = np.ones(num_of_particles)\n",
    "s_new = np.tile(state_init, (num_of_particles, 1)).T\n",
    "print(np.shape(s_new))\n",
    "s_sampled = sample_particle(s_new, weights)\n",
    "print(np.shape(s_sampled))"
   ]
  },
  {
   "cell_type": "markdown",
   "metadata": {},
   "source": [
    "## Step 4\n",
    "It includes 3 main steps in the Particle Filter. At every time instant k, a set\n",
    "of N particles with associated weights x_i,w_i is maintained to track the\n",
    "object. Note that particle weights are normalized "
   ]
  },
  {
   "cell_type": "markdown",
   "metadata": {},
   "source": [
    "### Prediction : \n",
    "\n",
    "**Transition function**\n",
    "\n",
    "The goal of this step is to predict the position of the tracked object using the transition model in Eq. 1."
   ]
  },
  {
   "cell_type": "code",
   "execution_count": null,
   "metadata": {},
   "outputs": [],
   "source": [
    "def predict_particles(particles_states):\n",
    "    \"\"\"\n",
    "    Args:\n",
    "        particles_states (np.ndarray): matrix of states. The rows are the properties of the state and the columns are the particles\n",
    "\n",
    "    Returns:\n",
    "        (np.ndarray): new predicted particles\n",
    "    \"\"\"\n",
    "    # the dynamic we use assume that:\n",
    "    # x_k = x + v_x_(k-1) \n",
    "    # y_k = y + v_y_(k-1)\n",
    "    # v_x_k = v_x_(k-1) \n",
    "    # v_y_k = v_y_(k-1) \n",
    "    dynamics = np.array(\n",
    "        [[1 ,0, 1, 0],\n",
    "         [0, 1, 0, 1],\n",
    "         [0, 0, 1, 0],\n",
    "         [0, 0, 0, 1]]\n",
    "    )\n",
    "    predicted_states = dynamics @ particles_states + np.random.normal(loc=0, scale=1, size=particles_states.shape)\n",
    "    return predicted_states"
   ]
  },
  {
   "cell_type": "markdown",
   "metadata": {},
   "source": [
    "### Correction :\n",
    "\n",
    "**Likelihood function**\n",
    "\n",
    "This step is used to correct the predicted position obtained from the previous step using the observation from the current image. The likelihood function is constructed from Eqs. 2 and 3. The particle weights are then updated"
   ]
  },
  {
   "cell_type": "code",
   "execution_count": null,
   "metadata": {},
   "outputs": [],
   "source": [
    "def likelihood(p, q):\n",
    "    \"\"\"\n",
    "    Args:\n",
    "        p, q (np.ndarray): normalized histogram\n",
    "    \"\"\"\n",
    "    dist = 1-np.sum(np.sqrt(p * q)) \n",
    "    return np.exp(-10 * dist) "
   ]
  },
  {
   "cell_type": "markdown",
   "metadata": {},
   "source": [
    "### Test"
   ]
  },
  {
   "cell_type": "code",
   "execution_count": null,
   "metadata": {},
   "outputs": [],
   "source": [
    "\n",
    "def draw_bounding_box(image, states, weights, half_height, half_width, with_max=True):\n",
    "    \"\"\"\n",
    "    Args:\n",
    "        image (np.ndarray): the image to draw recangle on\n",
    "        states (np.ndarray): the sampling states\n",
    "        weights (np.ndarray): the weight of each state\n",
    "        with_max (bool): True to draw a rectangle according to the state with the highest weight\n",
    "\n",
    "    Returns:\n",
    "        (np.ndarray): image with rectangle drawn on for the tracked object\n",
    "    \"\"\"\n",
    "    mean_box = np.average(states, axis=1, weights=weights)\n",
    "    x_c_mean, y_c_mean = np.round(mean_box[:2]).astype(int)\n",
    "    image_with_boxes = image.copy()\n",
    "    cv2.rectangle(image_with_boxes, (x_c_mean - half_width, y_c_mean - half_height),\n",
    "                                     (x_c_mean + half_width, y_c_mean + half_height), (255, 0, 255), 1)\n",
    "    return image_with_boxes\n",
    "\n",
    "def draw_particles(image, states, weights):\n",
    "    \"\"\"\n",
    "    Args:\n",
    "        image (np.ndarray): the image to draw particles on\n",
    "        states (np.ndarray): the sampling states\n",
    "        weights (np.ndarray): the weight of each state\n",
    "\n",
    "    Returns:\n",
    "        (np.ndarray): image with particles drawn on\n",
    "    \"\"\"\n",
    "    image_with_particles = image.copy()\n",
    "    for s, w in zip(states.T, weights):\n",
    "        x, y = np.round(s[:2]).astype(int)\n",
    "        cv2.circle(image_with_particles, (x, y), int(round(30 * w)), (255, 0, 255), thickness=-1)\n",
    "    return image_with_particles"
   ]
  },
  {
   "cell_type": "markdown",
   "metadata": {
    "id": "gJLGGa6vB3XA"
   },
   "source": [
    "![image.png](data:image/png;base64,iVBORw0KGgoAAAANSUhEUgAAAV8AAAA+CAYAAACMahjKAAAAAXNSR0IArs4c6QAAAARnQU1BAACxjwv8YQUAAAAJcEhZcwAADsMAAA7DAcdvqGQAABQoSURBVHhe7Z0LuA1VFMe3R0l6SCXSFUkueYW8dYuEhEp5FiE9PiqSSikVKSmvFBU+FHopUqQkXSKpvMmjl/TyTJQearf/6+59nTt3Zs45986cc+ac9fu+c2dmzznnzplZe83aa6+1poBUCIZhGCamFNRLhmEYJoaw8mUYhokDrHwZhmHiACtfhmGYOMDKl2EYJg6w8mUYhokDSad8p0yZIl577TW9xTDRETT5SWZ5T/a+nFRxvpmZmSIjI0NUqlRJfPnll7qVYSIjaPKTzPKeCn250EMKvR54ihQpIvbt2ycGDx4sypUrp1sZJjKCJj/JLO+p0Jc5w41hGCYO8IQbwzBMHEga5fvvv//qNSbZmDhxoti0aZPe8of8yM+wYcPEhg0b9FZsyOvxPvDAA+LQoUN6KzFJlb4ceOX7xx9/iK5du4p27dqJihUrivfff1/vYYIOPGL9+vUTy5cvF5UrV9at3uKF/IwfP14sWrRIb/lLfo+3Ro0aomnTpmL37t26JXFIub4Mn2+Queaaa+SyZctovUGDBrJs2bK0zgQfZaXJjIwM+ddff+kW7/FCfk477TT55JNP6i1/8eJ4Bw4cKOvVqycPHz6sWxKDVOvLgbZ8FyxYIMqXLy8aNWok/vvvP7Ft2za6ezLBZ/bs2eLpp58WM2bMEMcee6xu9ZagyY9Xxzt8+HA6p71799Yt8ScV+3Kgle+sWbPELbfcQusYouzZs0e0bduWtpngsmvXLtGzZ08xYsQIUaZMGd3qPUGTH6+Ot3DhwmLmzJmUwPD666/r1viSkn1ZW8CBJHQ4eu211yJkTmZmZuoWJqjceOONsnTp0vLvv//WLf7glfzEyu3gtbz36tVLpqWlyd9//123xI9U7MuB9/mC3bt3SzWMkhUqVNAtTFBZvXq1LFiwoHz44Yd1i//kV35i6fMFXsn7pk2bZIECBeT999+vW+JPKvXlpAg1mzZtmlBWkujRo4duYYLKyJEjaVh888036xb/CZr8eHW8iCBp3bq1mDBhglCWp26NLynVl7USDjTp6elkLX3//fe0vWDBAjl//nxaZ4LDr7/+Ko877jjZqVMn3RIb8is/sbZ8vZT3l156iYb4s2bN0i3xJZX6cuAtXxTdwKtevXrirLPOoraxY8eKmjVr0joTHF5++WXx559/iksvvVS3+E/Q5Mfr423SpAktJ0+eTMt4ErRrkV9ionyRsfLdd9/lK3MFwyLMgltR1hItL7nkElpiBrdq1aqidOnStJ3MICRHWQh0btWNVLdGDkJ5tm/fnn0OveTIkSPi22+/jSpcCOFGoG7durSMBCNb+H95IR7y888//4ivv/5a/Pbbb7olJ0iA+PHHH/VWTrw+3rJly4q0tDSxdOlSuvGFg/uyh2QZwP4xffp0Cuju0KGDPPXUU+Wrr76q9+Rm9uzZsm3btlIJnm7JQgmqPPPMM8kRb50BVUJAn6ldu7a89dZbZZcuXaTqiHpvcoLfh0mSU045hYaMeGG9T58+UnUM/S5nlIVJ16Rw4cLy7LPPlldddZXek3/Wrl1LbgN8L2atq1WrJu+77z7at2HDBjllyhS6ZlbUjUSWKFFCFitWLOLrZ2SrY8eO9Fn8Lid++uknCuKfNGmSbsnCC/mJ1O2gbkT0P9TNRV5//fWyYsWKdK6U0qH969evl8rqpzZckwsuuCAm8o7vgAx99NFHusUe7sve4qvyfffdd+kEmjCSRo0ayaJFi8qff/6ZtkNRd115wgknkBDAzxMKBNsomd69e+vWnGzcuFGqIYveSl5wLq+++mp54YUXkiLBuRo6dKisXr06nZ+TTjpJzpgxQ787JwcOHJBdu3aVZ5xxhpw6dSopAy8ZOXKkPOaYY2S3bt1yhC8NHjxYDh8+XJ588sl0jJ9//rnecxTMvGPfRRddpFvcscpW48aNSbagZO246667XL8/P/ITifLFuW/RooVU1pxukXLfvn3y9NNPJ4W7bds2ulEZX+e8efOkGnrLMmXK0LYVL+V99OjRdG4ee+wx3ZIb7sve45vyhWBBIaihlW6R8rzzzqOT/vbbb+uWo3z44Ye0D6Eve/fu1a1ZIPzknHPOof2wplIZxMDiHJhOYEBM7N13350t2OPHj9d7sjh48CB17vr168sffvhBt3oHrFv8Xyg3HEsosGrN9StUqFC2pRfK3Llzaf8NN9ygW5yJVrYAblbYb6xwL4lE+V5xxRWkUK3A0sNxId528eLF1AZrr1SpUtRepEgR3+OdzaRbz549dUtOuC/7g28+3xdeeEFcd9114sQTT6TtHTt2UMogsMtaUheMlueff75QQ0haNyjhFkpAaN3PjKdEB/7dNWvW0MSUGrbp1iyUxUkZYUq50PZtt91G7wPqOtO1UNaIUENLoYZ91O4VyE5CyqqyqMlPh2MJRXVC0axZM1pXQ2mhLGBaDwU+UGC3z4pVttTNJFu2cAxW4Fv94osvaP3iiy+mZSx588036dwrBaxbcgMZN75OdYMS6enpQo1ihLJGc51PrzH9DT56O7gv+0SWDvYedeJzDAEfffRRutuVL19et+QEFhP2K6WhW3KDQhtKEPRW6nHnnXe6+jUBrExjTcEFoTqUnDBhAvmEse41sGSMO2HIkCG6NTcNGzak92D4b8c999wT9jsMVtl66qmn6LOwHu38ye+88w7th0vk0KFDutU7wlm+GG0o5a+3cnLuuefSsdkllfht8Ro++eQTOobKlSvrlpxwX/YH35SvutvrtSxwYXFBUKnKCnyPGF5h/xtvvKFbc4MJiHXr1umt1ENZbRFNQPzyyy/kS8T5RFUwrFsnmrwi1NXhNNkH/y8UH97j5BZAR8X+UaNG6RZnrLJVo0YN+qxTphaqeGE//JR+EE75Wo/XsGfPHjouvOKZSgt/M47BqYoY92V/8HXCzYC7vhEyO0f6Bx98QPvgI4JA2gGLDjPodsrnq6++ksuXL5dvvfUWTQwkK1C+kfLiiy9mn3PMqvsxa4zvxKw3/gcUoBPvvfcevQfB83b+XnDTTTfReyZOnKhbIgMd2PxOp0ka4++1U86whCGfixYtokQDpwk7N8IpXyeg1HBcSCzBJFU0eCnz+M04jpIlS+oWZ7gve0dM4nxRHhDUrl2bnkZqxfiIqlevLlRnpnUrqpMJ1YnIHxbK4cOHRf/+/UX37t2pClKiPA8UfsZBgwbRcXsB4mWLFSumt8IDH12LFi1off/+/fQwQq9Rw1Wxd+9eWjf/y44lS5bQ0snfC5QCoqWykmkZKaYqV61atWxlK5y/F7KprHfRqlUr0blzZ7F27Vq9x3/gfwf169enB0ZGitcyb55sUbRoUVq6kYp92S9ionznzp1LyzZt2tDSirlgZsLBDnUXFC1bttRbR4HA4PuVVUPbXk2o/BVlrru6kQllQYjVq1eLcePGiSpVqojHH3+ctr3g+OOPj/qYOnbsSEuU58MTIbxGWT56TYgGDRrotdwY5et2bTAhBQ4cOEDLSDGyhacf2LFs2TJKCMAEZcOGDXXrUbp160YlDDH5g5oSqCcbKxYvXkxLPCI9GryWeZPcEMnNPYh9OVHxXfnC4tq4cSOtN2/enJahoGMYy6Rx48a0tGPOnDniyiuv1Fu5yczMpGW0gmwHnheGzJpogHWJjox0SMzouimjvKKG7XotPGpoR0VqzO9A/daFCxfSulcgE8sAS8gOWOyrVq2idbfOZGa+o1G+OOdmZOGkNI3iR9YcbmB2IIoEM/34DeYm4Dc4d+vXr6d1J5l1ynIzeCXz5pyblF4ngtiXExnfle+WLVvIKgQYilhBmBCGG8BuP0AHQ3iU0zAGoJNhGOOF5XLw4MGoU24RUgMLaurUqaJLly6iePHieo93IIzKdNhwIOwMygmWnzknvXr1ojavQGoqwHl3Cl/DdUE6LW4cbh0STzEAxo0RCbC8jWzZDYGBUb5ullgklrnXwOrFscMih9vBCuQvnPLxSuaNrJtr4EQQ+3Ii47vyNZYEhnR2VkWoj69kyZJ6LSejR48Wffv21Vu5geWCOFFYLiYWMRlB7O6zzz6rt5xZsWIF+csmTZpEPtbp06dTzCg6R4cOHUgZeoF5qCU6Cl52wPUC4O91uyGlp6fTMtKbC0DpQQCL1i5mFDcaN3+vwShfPywtPPwTytX6yB4zfId7ys7XijKPnTp10lu58VLmN2/eTEtzDZwIQl9GrZLbb79dPPPMMzT6S2jUncxXMKOphItmQO1mku+9917ahxdCXqwgFbVly5Z6yx6lXOjzCCmygplVvKIBcY+Ywc4PyETDMSGN10tatWqV/ZBBO5T1TREI1lTRpUuXUt0EHFP79u1zZCvlB6T14juREmplwIABtA8vxCiHA0+vQL0JZT3pFneQeYXvhnzZXeN+/frRftQRcEulRsaVunlQCrAVu7hhK27RDiaOF7/LfD9CAU1dDmXdUVsoO3fupPoGbjHJXsq8iQv/7LPPdIs9QejLiOwxx/D888/r1sTEd+ULEDiPkzFo0CDdkgUUghoOSmUd0f4HH3xQ78kCcaORpMMiLRKfD40hhXDgMSlt2rShQiZO8aV2JLLyVZYBhU5Zi6Cgow4bNkwqK1COGTNGt+YEsaRQcDguKBzE/m7dupVSj/MKCumUKFFCtmvXLjt0CNcNhWGg/KDU8P8QOhQOFMjBe1euXKlbwoO0XXwGoWIGdNAnnniCFB72udWL2LFjB72nTp06uiULhJ3hRgdl0bp1a1cl7KZ8UZ8BYVcmuUSNOujc4PuhYHFjCL0RQm6VBS5XrVqlW+zxUuaRyqysTNvQLyuJ3JdxjczNAS+nuO9EISbKF50BxVWQcYW7LDKS0DEhZLgYOGm4mAjORlEW1CXo378/FRyBcggHFEloDCmqZ6HDbNmyhe7mUDgQjEhJZOULYDnB4kTnhcJq2rQpdR48bnvNmjX6XfYgIw0xtaFCik6RH6DAOnfuLGvWrEnHBYWIzrhw4UL6flyb/fv363c7M23aNHq/GjLqlvCgdgAUJBJJHnroIfnII4+QXCFZo1KlSvR9VkUQirG0YKUDyCqy7aBEoCjR6XH8bhW/3JQvKn8hEwzFj3BMuBEYi8zcSHHOxo0bJ++44w5SLnajCCteyTyOAb8fchQJid6Xn3vuORpV4DxaK6olGjFRvgYMu9ApZ86cScU3rHdaDCORCvrKK6/IzZs3hx1iAGO5QBEBFCdByTszxEOnwH50qEhJdOVrgGCiShYKtiA4PRpwfpD8gApo+L1+YIrt1KpVS7e4g0w4pCqjI0cL5AUZVbDu8T04H/jfeK1zyaQylhbOIRIdunfvnp3RBUWC44G7xilhALgpXwBFAmsNL+tNCDIOKxdKesWKFTGXeSS14L24UUZDUPpyIhNT5esHxnKBTxHrPXr0IIvFgPx4DI2jISjKN9GBJW6uTaSgjis+gw4bDtSGdRoqm3oPF4fJCjSWFiwruAOgUEL55ptvXBUvCKd8vcZLma9atSq5RtzcKrHCj76cyARe+RrLBcMRDIN27dql9zgDK6dKlSr0vCi7F1If4au022desObchtKpoHzdrBmcG+NzhWUUKRiawg+KoawT+L/G19u8eXPdehR02HLlytF+p7oKwFhaSO+FAoLlnBclFGvlmxeZtwOWJb4nUSamvPpdQSHwyheWCxQlJlgwQQJfJnxEbo59DIkwATRnzhzb14gRI8iHarfPvDBkdyOZlS8m6NA5ihcv7lhlDX4//H7rRFYk4LPw2zlFKMCvje/GC9a1FRRuxz5Y0W4YSwuThX379iVZQsePVhnFWvnmRebtQFF+1ORIBKsXePW7gkKgla+xXDBpYViyZAm1NWnSRLdED7sd3EEpQPw2vOxcCiiuAqsXj4vZvn27bo0cRG7AEnWaKMPQE9YqJhqt/lzcGDHZA4s4dMhqh7G04JsEGNZedtll1IbfECmxVL5eyTwmr3CNohmV+IlffTmRiUltB78wwfGhAfQZGRn0wD0kGqjhKbUh0F5ZM7TO5B9lldISGUgDBgygdYCkhzFjxlDeft26dYVSYKJChQp6b+SgxgAKwY8aNSo7nTUUpEyjkA6C9atVq0ZtR44cocB6FMcZOHCgmDdvHiUDuAH5UZZWduYdipa3b9+e1j/++GNagj59+mTLUrzxQubVTUmoGw/VUIhlVp8bqdiXk075qhsKFZJBnnpBXQsBFwtV9WMJjiN0mUxAQSHTDooLxXuQ54/HvaOy2cqVK+nJDVBe6WEyptyAYkeBItQAsKYc47oiQwy1KpT1S686deqITz/9lOpIDB06NGyVMJNJBSWO7D+DeaquSZ3euXMnvc/IUrzxQuZxM0Eq8ZAhQ3RL/Enkvuwb6gcGFjNTbWICDcgqMvVlEaCN4Wk05NftAB8a4hpxet1iTJMFTIDh5QdKyVNsrFvWW17+t/H3mvheg3memZmoQ3LE/Pnzad0J+InHjh2rt/wlvzKPzEdEdURbP9hv/OrLiUxglS8eIIlZ8csvv1y3HAVFmKE8MYnSrFkzioeNhrwqX/imEKOIoHpkfSHNF0tER2Diye2xKowzyF7Li+/YDWRqweepLHTdkgX8xIikwPVCMgoSH8KBWFf4LP0mvzKPm9TkyZMjymSLJX725USmAP7AAg4iKAOYlpZmW9QFlckwXIRP0AxZIgVDZzzsMLRkIpNcoDYyri+GtHZs3bqV3BGlSpXSLYmBXzIfb5L1d7kRaOXrF/AdQvka/x/DMIzXJM9txEMwUYRJG4ZhGL9gy5dhGCYOsOXLMAwTB1j5MgzDxAFWvgzDMHGAlS/DMEwcYOXLMAwTB1j5MgzDxAFWvgzDMHGAlS/DMEwcYOXLMAwTB1j5MgzDxAFWvgzDMDFHiP8BYsKDblYj6xAAAAAASUVORK5CYII=)"
   ]
  },
  {
   "cell_type": "markdown",
   "metadata": {
    "id": "eBllfO71B5Vm"
   },
   "source": [
    "- Resampling : <br>\n",
    "This step alleviates a common problem of Particle Filter referred to as sample degeneracy. It replicates particles with high weights and remove those with low weights. The most commonly used resampling algorithms are :"
   ]
  },
  {
   "cell_type": "markdown",
   "metadata": {
    "id": "_NQDQRinCLh-"
   },
   "source": [
    "![image.png](data:image/png;base64,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)"
   ]
  },
  {
   "cell_type": "markdown",
   "metadata": {
    "id": "U3hq2etoCP1C"
   },
   "source": [
    "### 1.2 Practical Work"
   ]
  },
  {
   "cell_type": "markdown",
   "metadata": {
    "id": "6pwGI55UCS3d"
   },
   "source": [
    "- Implement the Particle Filter algorithm described in the previous section to track a moving object in a video sequence.\n",
    "- Test your tracker with di erent settings of parameters : (transition model), (likelihood model), Nb (color histogram), N (number of particles). Implementation of the systematic resampling algorithm is mandatory. The other two resampling algorithms are optional (you'll get bonus points if you implement them).\n",
    "- Test your tracker with a reduced number of video frames (e.g., remove one frame for every two consecutive frames). Compare the accuracy of your tracker in the two cases (tracking the object in the original video and in the video with a reduced number of frames). Which components (parameters, algorithms) you should change in order for the tracker to work?\n",
    "- The size of object is now assumed to be varied during tracking. Adapt your tracker to this scenario. What do you observe in terms of tracking accuracy? Why?\n",
    "- Propose some other methods for constructing the likelihood model. Compare the performance (accuracy, computation time) of your tracker when using di erent likelihood models.\n",
    "- In order to made a thorough study on the performance of your tracker, you are asked to test it on your own videos. For simplicity, you might create a square/rectangle/circle/triangle that moves in a video. Di erent levels of di culties can be added to investigate the robustness of your tracker :\n",
    "- Vary the moving spead of objects.\n",
    "- Objects lled with more colors.\n",
    "- Clustered background videos instead of clean background ones.\n",
    "- Videos with multiple moving objects. What do you observe when some objects are\n",
    " occluded by some others? Propose a solution to deal with the problem.\n",
    "\n",
    "By creating your own videos, you'll be able to calculate the tracking errors by comparing the positions of tracked object estimated by your tracker with the groundtruth positions. <br>\n",
    "Plot the tracker accuracy over time for di erent cases considered above."
   ]
  },
  {
   "cell_type": "code",
   "execution_count": null,
   "metadata": {},
   "outputs": [],
   "source": [
    "frame_width = int(cap.get(3))\n",
    "frame_height = int(cap.get(4))\n",
    "fps = 20\n",
    "\n",
    "size = (frame_width, frame_height)\n",
    "result = cv2.VideoWriter('test_video/10.avi',\n",
    "                         cv2.VideoWriter_fourcc(*'MJPG'),\n",
    "                         fps, size)\n",
    "\n",
    "while True:\n",
    "    ret, image = cap.read()\n",
    "    if not ret:\n",
    "        break\n",
    "\n",
    "    # sample new particles according to the weights\n",
    "    s_sampled = sample_particle(s_new, weights)\n",
    "    # predict new particles states according to the previous states\n",
    "    s_new = predict_particles(s_sampled)\n",
    "    \n",
    "    # compute histogram and weigths\n",
    "    for jj, s in enumerate(s_new.T):\n",
    "        p = compute_norm_hist(image, s, half_height, half_width)\n",
    "        weights[jj] = likelihood(p, q)\n",
    "\n",
    "    s_new_new = sample_particle(s_new,weights) # resampling\n",
    "\n",
    "    # draw bounding box over the tracked object\n",
    "    image_with_boxes = draw_bounding_box(image, s_new_new, weights, half_height, half_width, with_max=True)\n",
    "    normalized_weights = weights / np.sum(weights)\n",
    "    image_with_particles = draw_particles(image_with_boxes, s_sampled, normalized_weights)\n",
    "    \n",
    "    result.write(image_with_particles)\n",
    "\n",
    "cap.release()\n",
    "result.release()"
   ]
  },
  {
   "cell_type": "markdown",
   "metadata": {},
   "source": [
    "## 2 Tracking complex objects in videos\n",
    "### 2.1 Particle Filters for high-dimensional problems\n",
    "\n",
    "In this exercise, we will implement a Particle Filter algorithm for tracking an articulated object (e.g., human body, human hand) in a video. Some demo videos resulted from tracking human poses with such an algorithm are provided with this handout.<br>\n",
    "For simplicity, we will work with simulation videos like the one given in the previous exercise. The target object consists of a center part (square) connected with 4 hands. Each object's hand consists of some rectangles linked together. Different objects have different numbers of rectangles in their hands. We note that once the algorithm for tracking such objects has been implemented, only a few modifications are needed to make it work as shown in the demo videos.<br>\n",
    "\n",
    "Since the target object has multiple parts to be tracked, we can no longer represent the hidden state by a 2-dimensional vector as in the previous exercise. Instead, we must use a high dimensional vector to represent the hidden state. In theory, the number of particles required to track the object grows exponentially with the dimension of hidden state. We are thus facing the problem referred to as the curse of dimensionality in Particle Filter methods. In order to alleviate this problem, we will use an advanced version of Particle Filter algorithm whose steps are given below :\n",
    "\n",
    "1. Initialize a set of particles to track the object. You might use the same method in the previous exercise.\n",
    "2. Track the object's center part using a Particle Filter.\n",
    "3. Track the object's hands sequentially using a Particle Filter. Note that when a specific part of a hand is tracked, the transition model is only applied to the part in question. Also, particle weights should be evaluated based only on the observation related to the target part. In practice, the order for tracking the object's hands might have an important impact on the tracking accuracy. For simplicity, you can assume a xed order when tracking the object's hand.\n",
    "\n",
    "You might use the same transition and likelihood models as well as the resampling algorithm\n",
    "that work well for you in the previous exercise."
   ]
  },
  {
   "cell_type": "code",
   "execution_count": null,
   "metadata": {
    "id": "wIAAfXMs9LlT"
   },
   "outputs": [],
   "source": [
    "import cv2\n",
    "import numpy as np\n",
    "import matplotlib.pyplot as plt\n",
    "\n",
    "cap = cv2.VideoCapture('escrime-4-3.avi')\n",
    "\n",
    "ret, image = cap.read()\n",
    "\n",
    "if not ret:\n",
    "    print(\"Erreur lors de la lecture de la vidéo\")\n",
    "else:\n",
    "    num_of_particles = 50\n",
    "    state_init = np.array([320, 240, 0, 0]) \n",
    "\n",
    "    bounding_boxes = [\n",
    "        (320, 240, 18*2, 18*2),\n",
    "\n",
    "        (355, 240, 14*2, 6*2), \n",
    "        (385, 240, 14 * 2, 6 * 2),   \n",
    "        (415, 240, 14 * 2, 6 * 2), \n",
    "\n",
    "        (285, 240, 14 * 2, 6 * 2),   \n",
    "        (255, 240, 14 * 2, 6 * 2),   \n",
    "        (225, 240, 14 * 2, 6 * 2),   \n",
    "\n",
    "        (320, 275, 6*2, 14*2),\n",
    "        (320, 305, 6*2, 14*2),\n",
    "        (320, 335, 6*2, 14*2),\n",
    "\n",
    "        (320, 205, 6*2, 14*2),\n",
    "        (320, 175, 6*2, 14*2),\n",
    "        (320, 145, 6*2, 14*2)\n",
    "\n",
    "    ]\n",
    "\n",
    "    for (x, y, w, h) in bounding_boxes:\n",
    "        top_left = (x - w // 2, y - h // 2)\n",
    "        bottom_right = (x + w // 2, y + h // 2)\n",
    "        cv2.rectangle(image, top_left, bottom_right, (255, 0, 255), 2) \n",
    "\n",
    "    image_rgb = cv2.cvtColor(image, cv2.COLOR_BGR2RGB)\n",
    "\n",
    "    plt.figure(figsize=(16, 12))\n",
    "    plt.imshow(image_rgb)\n",
    "    plt.axis() \n",
    "    plt.grid()\n",
    "    plt.show()\n",
    "\n",
    "cap.release()\n"
   ]
  },
  {
   "cell_type": "markdown",
   "metadata": {},
   "source": [
    "### 2.3 Practical Work\n",
    "- Implement the Particle Filter algorithm described in the previous section to track a moving object in a video sequence."
   ]
  },
  {
   "cell_type": "markdown",
   "metadata": {},
   "source": [
    "- Test your tracker with different settings of parameters : (transition model), \n",
    "\n",
    "1.   List item\n",
    "2.   List item\n",
    "\n",
    "(likelihood model), Nb (color histogram), N (number of particles). Implementation of the systematic resampling algorithm is mandatory. The other two resampling algorithms are optional (you'll get bonus points if you implement them)."
   ]
  },
  {
   "cell_type": "markdown",
   "metadata": {},
   "source": [
    "- Test your tracker with a reduced number of video frames (e.g., remove one frame for every two consecutive frames). Compare the accuracy of your tracker in the two cases (tracking the object in the original video and in the video with a reduced number of frames). Which components (parameters, algorithms) you should change in order for the tracker to work?"
   ]
  },
  {
   "cell_type": "markdown",
   "metadata": {},
   "source": [
    "- Propose some other methods for constructing the likelihood model. Compare the performance (accuracy, computation time) of your tracker when using di erent likelihood models."
   ]
  },
  {
   "cell_type": "markdown",
   "metadata": {},
   "source": [
    "- In order to made a thorough study on the performance of your tracker, you are asked to test it on your own videos. For simplicity, you might create a square/rectangle/circle/triangle that moves in a video. Di erent levels of di culties can be added to investigate the ro\n",
    "bustness of your tracker:\n",
    "  - Vary the moving spead of objects.\n",
    "  - Objects lled with more colors.\n",
    "  - Clustered background videos instead of clean background ones.\n",
    "  - Videos with multiple moving objects. What do you observe when some objects are occluded by some others? Propose a solution to deal with the problem.\n",
    "\n",
    "By creating your own videos, you'll be able to calculate the tracking errors by comparing the positions of tracked object estimated by your tracker with the groundtruth positions.<br>\n",
    "Plot the tracker accuracy over time for di erent cases considered above."
   ]
  },
  {
   "cell_type": "code",
   "execution_count": null,
   "metadata": {},
   "outputs": [],
   "source": [
    "import cv2\n",
    "import numpy as np\n",
    "\n",
    "cap = cv2.VideoCapture('escrime-4-3.avi')\n",
    "ret, image = cap.read()\n",
    "\n",
    "num_of_particles = 60\n",
    "\n",
    "state_init_list = [\n",
    "    np.array([320, 240, 0, 0]),\n",
    "    np.array([355, 240, 0, 0]),\n",
    "    np.array([385, 240, 0, 0]),\n",
    "    np.array([415, 240, 0, 0]),\n",
    "    np.array([285, 240, 0, 0]),\n",
    "    np.array([255, 240, 0, 0]),\n",
    "    np.array([225, 240, 0, 0]),\n",
    "    np.array([320, 275, 0, 0]),\n",
    "    np.array([320, 305, 0, 0]),\n",
    "    np.array([320, 335, 0, 0]),\n",
    "    np.array([320, 205, 0, 0]),\n",
    "    np.array([320, 175, 0, 0]),\n",
    "    np.array([320, 145, 0, 0])\n",
    "]\n",
    "\n",
    "half_width_list = [18, 15, 15, 15, 15, 15, 15, 6, 6, 6, 6, 6, 6]\n",
    "half_height_list = [18, 6, 6, 6, 6, 6, 6, 15, 15, 15, 15, 15, 15]\n",
    "\n",
    "frame_width = int(cap.get(3))\n",
    "frame_height = int(cap.get(4))\n",
    "fps = 20\n",
    "size = (frame_width, frame_height)\n",
    "result = cv2.VideoWriter('part_2_all_boxes_3.avi', cv2.VideoWriter_fourcc(*'MJPG'), fps, size)\n",
    "\n",
    "q_list = []\n",
    "weights_list = []\n",
    "s_new_list = []\n",
    "s_new_new_list = [None] * len(state_init_list)\n",
    "\n",
    "\n",
    "for i, init_state in enumerate(state_init_list):\n",
    "    half_height = half_height_list[i]\n",
    "    half_width = half_width_list[i]\n",
    "    \n",
    "    q = compute_norm_hist(image, init_state, half_height, half_width)\n",
    "    q_list.append(q)\n",
    "    weights_list.append(np.ones(num_of_particles))\n",
    "    s_new_list.append(np.tile(init_state, (num_of_particles, 1)).T)\n",
    "\n",
    "while True:\n",
    "    ret, image = cap.read()\n",
    "    if not ret:\n",
    "        break\n",
    "\n",
    "    for i in range(len(state_init_list)):\n",
    "        half_height = half_height_list[i]\n",
    "        half_width = half_width_list[i]\n",
    "\n",
    "        s_sampled = sample_particle(s_new_list[i], weights_list[i])\n",
    "        s_new_list[i] = predict_particles(s_sampled)\n",
    "        \n",
    "        for jj, s in enumerate(s_new_list[i].T):\n",
    "            p = compute_norm_hist(image, s, half_height, half_width)\n",
    "            weights_list[i][jj] = likelihood(p, q_list[i])\n",
    "        \n",
    "        s_new_new_list[i] = sample_particle(s_new_list[i], weights_list[i])\n",
    "\n",
    "        image = draw_bounding_box(image, s_new_new_list[i], weights_list[i], half_height, half_width, with_max=True)\n",
    "\n",
    "    for i in range(len(state_init_list)):\n",
    "        normalized_weights = weights_list[i] / np.sum(weights_list[i])\n",
    "        image = draw_particles(image, s_new_list[i], normalized_weights)\n",
    "\n",
    "    result.write(image)\n",
    "\n",
    "cap.release()\n",
    "result.release()\n"
   ]
  },
  {
   "cell_type": "code",
   "execution_count": null,
   "metadata": {},
   "outputs": [],
   "source": []
  }
 ],
 "metadata": {
  "colab": {
   "authorship_tag": "ABX9TyNNFL9iJdrCu9yf/deVceOS",
   "provenance": []
  },
  "kernelspec": {
   "display_name": "Python 3",
   "name": "python3"
  },
  "language_info": {
   "codemirror_mode": {
    "name": "ipython",
    "version": 3
   },
   "file_extension": ".py",
   "mimetype": "text/x-python",
   "name": "python",
   "nbconvert_exporter": "python",
   "pygments_lexer": "ipython3",
   "version": "3.11.9"
  }
 },
 "nbformat": 4,
 "nbformat_minor": 0
}
